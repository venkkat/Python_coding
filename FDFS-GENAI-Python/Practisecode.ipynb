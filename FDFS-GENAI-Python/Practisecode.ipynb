{
 "cells": [
  {
   "cell_type": "code",
   "execution_count": 5,
   "metadata": {},
   "outputs": [],
   "source": [
    "complex_dict = {\n",
    "    'company': 'TechCorp',\n",
    "    'employees': {\n",
    "        'John': {\n",
    "            'age': 35,\n",
    "            'position': 'Software Engineer',\n",
    "            'projects': ['Project A', 'Project B'],\n",
    "            'salary': 85000.00,\n",
    "            'performance': {\n",
    "                '2019': 'Excellent',\n",
    "                '2020': 'Satisfactory',\n",
    "                '2021': 'Outstanding'\n",
    "            }\n",
    "        },\n",
    "        'Emily': {\n",
    "            'age': 28,\n",
    "            'position': 'Data Scientist',\n",
    "            'projects': ['Project B', 'Project C'],\n",
    "            'salary': 90000.00,\n",
    "            'performance': {\n",
    "                '2019': 'Satisfactory',\n",
    "                '2020': 'Outstanding',\n",
    "                '2021': 'Excellent'\n",
    "            }\n",
    "        }\n",
    "    },\n",
    "    'departments': {\n",
    "        'engineering': ['John'],\n",
    "        'data_science': ['Emily']\n",
    "    },\n",
    "    'locations': {\n",
    "        'headquarters': {\n",
    "            'city': 'San Francisco',\n",
    "            'country': 'USA'\n",
    "        },\n",
    "        'branch_offices': [\n",
    "            {\n",
    "                'city': 'New York',\n",
    "                'country': 'USA'\n",
    "            },\n",
    "            {\n",
    "                'city': 'London',\n",
    "                'country': 'UK'\n",
    "            }\n",
    "        ]\n",
    "    }\n",
    "}"
   ]
  },
  {
   "cell_type": "code",
   "execution_count": 6,
   "metadata": {},
   "outputs": [
    {
     "data": {
      "text/plain": [
       "dict_keys(['company', 'employees', 'departments', 'locations'])"
      ]
     },
     "execution_count": 6,
     "metadata": {},
     "output_type": "execute_result"
    }
   ],
   "source": [
    "complex_dict.keys()"
   ]
  },
  {
   "cell_type": "code",
   "execution_count": 10,
   "metadata": {},
   "outputs": [
    {
     "data": {
      "text/plain": [
       "{'headquarters': {'city': 'San Francisco', 'country': 'USA'},\n",
       " 'branch_offices': [{'city': 'New York', 'country': 'USA'},\n",
       "  {'city': 'London', 'country': 'UK'}]}"
      ]
     },
     "execution_count": 10,
     "metadata": {},
     "output_type": "execute_result"
    }
   ],
   "source": [
    "complex_dict[\"locations\"]"
   ]
  },
  {
   "cell_type": "code",
   "execution_count": 19,
   "metadata": {},
   "outputs": [
    {
     "data": {
      "text/plain": [
       "'UK'"
      ]
     },
     "execution_count": 19,
     "metadata": {},
     "output_type": "execute_result"
    }
   ],
   "source": [
    "complex_dict[\"locations\"][\"branch_offices\"][1][\"country\"]"
   ]
  },
  {
   "cell_type": "code",
   "execution_count": null,
   "metadata": {},
   "outputs": [],
   "source": [
    "dic1 = {1: 10, 2: 20}\n",
    "dic2 = {3: 30, 4: 40}\n",
    "dic3 = {5: 50, 6: 60}\n",
    "\n",
    "result = {}\n",
    "\n",
    "for d in [dic1, dic2, dic3]:\n",
    "    result.update(d)\n",
    "\n",
    "print(\"Concatenated dictionary:\", result)"
   ]
  },
  {
   "cell_type": "code",
   "execution_count": 20,
   "metadata": {},
   "outputs": [
    {
     "name": "stdout",
     "output_type": "stream",
     "text": [
      "yes\n"
     ]
    }
   ],
   "source": [
    "dict={1:20,2:20,3:30}\n",
    "inte=int(input(\"Enter the input\"))\n",
    "if inte in dict:\n",
    "    print(\"yes\")\n",
    "else:\n",
    "    print(\"No\")\n"
   ]
  },
  {
   "cell_type": "code",
   "execution_count": 28,
   "metadata": {},
   "outputs": [
    {
     "name": "stdout",
     "output_type": "stream",
     "text": [
      "256\n"
     ]
    }
   ],
   "source": [
    "my_dict={'data1':100,'data2':54,'data3':256}\n",
    "for i in my_dict.values():\n",
    "    j=i+0\n",
    "\n",
    "    \n",
    "print(j)"
   ]
  },
  {
   "cell_type": "code",
   "execution_count": 9,
   "metadata": {},
   "outputs": [
    {
     "name": "stdout",
     "output_type": "stream",
     "text": [
      "Print addition value of 30 and 10 is 40\n",
      "Print subraction value of 30 and 10 is 20\n",
      "Print multipy value of 30 and 10 is 300\n",
      "Print division value of 30 and 10 is 3.0\n"
     ]
    }
   ],
   "source": [
    "a = int(input(\"Enter the number a: \"))\n",
    "b = int(input(\"Enter the number b: \"))\n",
    "c = a+b\n",
    "print(f\"Print addition value of {a} and {b} is {c}\")\n",
    "c = a-b\n",
    "print(f\"Print subraction value of {a} and {b} is {c}\")\n",
    "c = a*b\n",
    "print(f\"Print multipy value of {a} and {b} is {c}\")\n",
    "c = a/b\n",
    "print(f\"Print division value of {a} and {b} is {c}\")\n",
    "\n"
   ]
  },
  {
   "cell_type": "code",
   "execution_count": 8,
   "metadata": {},
   "outputs": [
    {
     "name": "stdout",
     "output_type": "stream",
     "text": [
      "30\n",
      "10\n",
      "200\n",
      "2.0\n"
     ]
    }
   ],
   "source": [
    "a = int(input(\"enter the number a\"))\n",
    "b = int(input(\"enter the number b\"))\n",
    "\n",
    "def addition(a,b):\n",
    "    print(f\"{a+b}\")\n",
    "\n",
    "def sub(a,b):\n",
    "    print(f\"{a-b}\")\n",
    "\n",
    "def mul(a,b):\n",
    "    print(f\"{a*b}\")\n",
    "\n",
    "def division(a,b):\n",
    "    print(f\"{a/b} \")\n",
    "\n",
    "addition(a,b)\n",
    "sub(a,b)\n",
    "mul(a,b)\n",
    "division(a,b)\n",
    "    "
   ]
  },
  {
   "cell_type": "code",
   "execution_count": 14,
   "metadata": {},
   "outputs": [
    {
     "name": "stdout",
     "output_type": "stream",
     "text": [
      "simple_interest is 2100.0\n",
      "compound_interest is 2250.0\n"
     ]
    }
   ],
   "source": [
    "P=int(input(\"enter the principle\"))\n",
    "R=float(input(\"enter the interest\"))\n",
    "N=int(input(\"Enter the number of Years\"))\n",
    "\n",
    "\n",
    "def simple_interest(P,N,R):\n",
    "    SI=(P*N*R)/100\n",
    "    print(f\"simple_interest is {SI}\")\n",
    "\n",
    "def compound_interest(P,N,R):\n",
    "    CI=(P*(1+(R/100))**N)-P\n",
    "    print(f\"compound_interest is {round(CI,0)}\")\n",
    "\n",
    "simple_interest(P,N,R)\n",
    "compound_interest(P,N,R)\n"
   ]
  },
  {
   "cell_type": "markdown",
   "metadata": {},
   "source": [
    "## Conditional statements\n"
   ]
  },
  {
   "cell_type": "code",
   "execution_count": 2,
   "metadata": {},
   "outputs": [
    {
     "name": "stdout",
     "output_type": "stream",
     "text": [
      " Print 20 is greater\n"
     ]
    }
   ],
   "source": [
    "a=int(input(\"Enter number : \"))\n",
    "b=int(input(\"Enter number : \"))\n",
    "\n",
    "if a>b:\n",
    "    print(f\"Print {a} is greater\")\n",
    "else:\n",
    "    print(f\" Print {b} is greater\")"
   ]
  },
  {
   "cell_type": "code",
   "execution_count": 8,
   "metadata": {},
   "outputs": [
    {
     "name": "stdout",
     "output_type": "stream",
     "text": [
      "Print 90 is greater than -90 and 0\n"
     ]
    }
   ],
   "source": [
    "a=int(input(\"Enter the number :\"))\n",
    "b=int(input(\"Enter the number :\"))\n",
    "c=int(input(\"Enter the number :\"))\n",
    "\n",
    "if (a>b)&(a>c):\n",
    "    print(f\"Print {a} is greater than {b} and {c}\")\n",
    "elif(b>c):\n",
    "    print(f\"Print {b} is greater than {a} and {c}\")\n",
    "else:\n",
    "    print(f\"Pirnt {c} is greater than {a} and {b}\")\n"
   ]
  },
  {
   "cell_type": "markdown",
   "metadata": {},
   "source": [
    "### number is even or odd"
   ]
  },
  {
   "cell_type": "markdown",
   "metadata": {},
   "source": [
    "### Year is leap year or non-leap year"
   ]
  },
  {
   "cell_type": "markdown",
   "metadata": {},
   "source": [
    "#### BMI value is normal or lean or between the limits"
   ]
  },
  {
   "cell_type": "code",
   "execution_count": 5,
   "metadata": {},
   "outputs": [
    {
     "name": "stdout",
     "output_type": "stream",
     "text": [
      "The number is odd 15\n"
     ]
    }
   ],
   "source": [
    "num=int(input(\"Enter number num: \"))\n",
    "def oddoreven(num):\n",
    "    if num%2==0:\n",
    "        print(f\"The number is even {num}\")\n",
    "    else:\n",
    "        print(f\"The number is odd {num}\")\n",
    "\n",
    "oddoreven(num)"
   ]
  },
  {
   "cell_type": "code",
   "execution_count": 10,
   "metadata": {},
   "outputs": [
    {
     "name": "stdout",
     "output_type": "stream",
     "text": [
      "The Year is leap-year 1900\n"
     ]
    }
   ],
   "source": [
    "Year=int(input(\"Enter the year :\"))\n",
    "def leapyearornot(Year):\n",
    "    if Year%4==0 & Year%400==0:\n",
    "        print(f\"The Year is leap-year {Year}\")\n",
    "    \n",
    "    elif Year%100==0 or Year%400!=0:\n",
    "        print(\"The Year is non-leap year\")\n",
    "        \n",
    "    else:\n",
    "        print(\"The year is non leap year\")\n",
    "\n",
    "leapyearornot(Year)"
   ]
  },
  {
   "cell_type": "code",
   "execution_count": 103,
   "metadata": {},
   "outputs": [
    {
     "name": "stdout",
     "output_type": "stream",
     "text": [
      "1 Is positive\n",
      "2 Is positive\n",
      "3 Is positive\n",
      "4 Is positive\n",
      "5 Is positive\n",
      "-5 is negative\n",
      "-4 is negative\n",
      "-3 is negative\n",
      "-2 is negative\n",
      "-1 is negative\n"
     ]
    }
   ],
   "source": [
    "a=[1,2,3,4,5,-5,-4,-3,-2,-1]\n",
    "index=0\n",
    "while index<len(a):\n",
    "    if a[index]>0:\n",
    "        print(f\"{a[index]} Is positive\")\n",
    "    else:\n",
    "        print(f\"{a[index]} is negative\")\n",
    "    index+=1"
   ]
  },
  {
   "cell_type": "code",
   "execution_count": 104,
   "metadata": {},
   "outputs": [
    {
     "name": "stdout",
     "output_type": "stream",
     "text": [
      "1\n",
      "4\n",
      "9\n",
      "16\n",
      "25\n"
     ]
    }
   ],
   "source": [
    "a=[1,2,3,4,5]\n",
    "i=0\n",
    "while i<len(a):\n",
    "    T=a[i]*a[i]\n",
    "    print(T)\n",
    "    i+=1"
   ]
  },
  {
   "cell_type": "code",
   "execution_count": 105,
   "metadata": {},
   "outputs": [
    {
     "name": "stdout",
     "output_type": "stream",
     "text": [
      "1\n",
      "2\n",
      "6\n",
      "24\n",
      "120\n",
      "720\n"
     ]
    }
   ],
   "source": [
    "a=[1,2,3,4,5]\n",
    "result=1\n",
    "\n",
    "for item in range(1,item+2):\n",
    "    result*=item\n",
    "    print(result)"
   ]
  },
  {
   "cell_type": "code",
   "execution_count": 106,
   "metadata": {},
   "outputs": [
    {
     "name": "stdout",
     "output_type": "stream",
     "text": [
      "1\n",
      "2\n",
      "6\n",
      "24\n",
      "120\n",
      "720\n",
      "5040\n"
     ]
    }
   ],
   "source": [
    "a=[1,2,3,4,5]\n",
    "result=1\n",
    "for item in range(1,item+2):\n",
    "    result*=item\n",
    "    print(result,)"
   ]
  },
  {
   "cell_type": "code",
   "execution_count": 2,
   "metadata": {},
   "outputs": [],
   "source": [
    "a=[1,2,3,4,5]\n",
    "index=0\n",
    "\n",
    "while index > len(a):\n",
    "    print(a[index])\n",
    "    index+=2\n"
   ]
  },
  {
   "cell_type": "markdown",
   "metadata": {},
   "source": [
    "## Create funtion to find out area and perimeter"
   ]
  },
  {
   "cell_type": "code",
   "execution_count": 7,
   "metadata": {},
   "outputs": [
    {
     "name": "stdout",
     "output_type": "stream",
     "text": [
      "Perimeter of square 25\n",
      "Area of square 20\n"
     ]
    }
   ],
   "source": [
    "a=int(input(\"Enter the side\"))\n",
    "\n",
    "def perimeter(a):\n",
    "    perimeter=a*a\n",
    "    print(f\"Perimeter of square {perimeter}\")\n",
    "\n",
    "def area(a):\n",
    "    area=4*a\n",
    "    print(f\"Area of square {area}\")\n",
    "\n",
    "perimeter(a)\n",
    "area(a)"
   ]
  },
  {
   "cell_type": "markdown",
   "metadata": {},
   "source": [
    "### LCM and HCF"
   ]
  },
  {
   "cell_type": "code",
   "execution_count": null,
   "metadata": {},
   "outputs": [],
   "source": [
    "x=int(input(\"Enter the number x\"))\n",
    "y=int(input(\"Enter the number y\"))\n",
    "\n",
    "def LCM(x,y):\n",
    "    "
   ]
  },
  {
   "cell_type": "code",
   "execution_count": 8,
   "metadata": {},
   "outputs": [],
   "source": [
    "n = int(input().strip())"
   ]
  },
  {
   "cell_type": "code",
   "execution_count": 11,
   "metadata": {},
   "outputs": [
    {
     "name": "stdout",
     "output_type": "stream",
     "text": [
      "Candiate failed 76.8 needs reappear F\n"
     ]
    }
   ],
   "source": [
    "Name=input(\"Enter the name\")\n",
    "Tamil=float(input(\"Enter the tamil marks\"))\n",
    "English=float(input(\"Enter the English marks\"))\n",
    "Science=float(input(\"Enter the Science marks\"))\n",
    "Social=float(input(\"Enter the social marks\"))\n",
    "Maths=float(input(\"Enter the Maths marks\"))\n",
    "Pass=40\n",
    "\n",
    "\n",
    "def Totalmarks(Tamil,English,Science,Social,Maths):\n",
    "    Total=((Tamil+English+Science+Social+Maths)/500)*100\n",
    "    \n",
    "    if Tamil<=Pass and English<=Pass and Science<=Pass and Social<=Pass and Maths<=Pass:\n",
    "            print(\"Candidate Failed needs reappear\")\n",
    "    \n",
    "            if Total>90 and Total<=100:\n",
    "                print(f\"Candidate passed {round(Total,1)} and secured A\")\n",
    "            elif Total>80 and Total<=89:\n",
    "                print(f\"Candidate passed {round(Total,1)} and secured B\")\n",
    "            elif Total>70 and Total<=79:\n",
    "                print(f\"Candidate passed {round(Total,1)} and secured C\")\n",
    "            elif Total>60 and Total<=69:\n",
    "                print(f\"Candidate passed {round(Total,1)} and secured D\")\n",
    "            elif Total<60:\n",
    "                print(f\"Candidate failed {round(Total,1)} and needs reappear E\")\n",
    "    else:\n",
    "        print(f\"Candiate failed {round(Total,1)} needs reappear F\")\n",
    "\n",
    "Totalmarks(Tamil,English,Science,Social,Maths)"
   ]
  },
  {
   "cell_type": "markdown",
   "metadata": {},
   "source": [
    "### Doc string"
   ]
  },
  {
   "cell_type": "code",
   "execution_count": null,
   "metadata": {},
   "outputs": [],
   "source": []
  },
  {
   "cell_type": "code",
   "execution_count": null,
   "metadata": {},
   "outputs": [],
   "source": [
    "def addition(a,b):\n",
    "    sum=a+b\n",
    "    return sum\n",
    "\n",
    "def subraction(a,b):\n",
    "    diff=a-b\n",
    "    return diff\n",
    "\n",
    "def division(a,b):\n",
    "    div=a/b\n",
    "    return div\n",
    "\n",
    "def multiply(a,b):\n",
    "    mul=a*b\n",
    "    return mul\n",
    "def floordiv(a,b):\n",
    "    floor=a//b\n",
    "    return floor"
   ]
  },
  {
   "cell_type": "code",
   "execution_count": 9,
   "metadata": {},
   "outputs": [],
   "source": [
    "directory = \"H:\\Besant_tech\\\\\"\n",
    "  \n",
    "# get fileName from user \n",
    "filepath = directory + input(\"Enter filename: \") \n",
    "  \n",
    "# Creates a new file \n",
    "with open(filepath, 'x') as fp: \n",
    "    fp = fp.write(f\"{Total}\")"
   ]
  },
  {
   "cell_type": "code",
   "execution_count": 5,
   "metadata": {},
   "outputs": [
    {
     "name": "stdout",
     "output_type": "stream",
     "text": [
      "340.0 68.0\n"
     ]
    }
   ],
   "source": [
    "Tamil = float(input(\"Enter the tamil marks: \"))\n",
    "English = float(input(\"Enter the english marks: \"))\n",
    "Maths = float(input(\"Enter the english marks: \"))\n",
    "Social = float(input(\"Enter the social marks: \"))\n",
    "Science = float(input(\"Enter the science marks: \"))\n",
    "Total=Tamil+English+Science+Social+Maths\n",
    "Per=(Total/500)*100\n",
    "print(f\"Total marks: {Total}, Percentage:{Per}\")"
   ]
  },
  {
   "cell_type": "code",
   "execution_count": null,
   "metadata": {},
   "outputs": [],
   "source": []
  },
  {
   "cell_type": "code",
   "execution_count": null,
   "metadata": {},
   "outputs": [],
   "source": []
  },
  {
   "cell_type": "code",
   "execution_count": null,
   "metadata": {},
   "outputs": [],
   "source": []
  },
  {
   "cell_type": "code",
   "execution_count": null,
   "metadata": {},
   "outputs": [],
   "source": []
  },
  {
   "cell_type": "code",
   "execution_count": null,
   "metadata": {},
   "outputs": [],
   "source": []
  },
  {
   "cell_type": "code",
   "execution_count": null,
   "metadata": {},
   "outputs": [],
   "source": []
  },
  {
   "cell_type": "code",
   "execution_count": null,
   "metadata": {},
   "outputs": [],
   "source": []
  },
  {
   "cell_type": "code",
   "execution_count": null,
   "metadata": {},
   "outputs": [],
   "source": []
  }
 ],
 "metadata": {
  "kernelspec": {
   "display_name": "venv",
   "language": "python",
   "name": "python3"
  },
  "language_info": {
   "codemirror_mode": {
    "name": "ipython",
    "version": 3
   },
   "file_extension": ".py",
   "mimetype": "text/x-python",
   "name": "python",
   "nbconvert_exporter": "python",
   "pygments_lexer": "ipython3",
   "version": "3.10.12"
  }
 },
 "nbformat": 4,
 "nbformat_minor": 2
}
