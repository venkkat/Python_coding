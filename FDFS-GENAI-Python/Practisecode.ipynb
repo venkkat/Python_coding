{
 "cells": [
  {
   "cell_type": "code",
   "execution_count": 5,
   "metadata": {},
   "outputs": [],
   "source": [
    "complex_dict = {\n",
    "    'company': 'TechCorp',\n",
    "    'employees': {\n",
    "        'John': {\n",
    "            'age': 35,\n",
    "            'position': 'Software Engineer',\n",
    "            'projects': ['Project A', 'Project B'],\n",
    "            'salary': 85000.00,\n",
    "            'performance': {\n",
    "                '2019': 'Excellent',\n",
    "                '2020': 'Satisfactory',\n",
    "                '2021': 'Outstanding'\n",
    "            }\n",
    "        },\n",
    "        'Emily': {\n",
    "            'age': 28,\n",
    "            'position': 'Data Scientist',\n",
    "            'projects': ['Project B', 'Project C'],\n",
    "            'salary': 90000.00,\n",
    "            'performance': {\n",
    "                '2019': 'Satisfactory',\n",
    "                '2020': 'Outstanding',\n",
    "                '2021': 'Excellent'\n",
    "            }\n",
    "        }\n",
    "    },\n",
    "    'departments': {\n",
    "        'engineering': ['John'],\n",
    "        'data_science': ['Emily']\n",
    "    },\n",
    "    'locations': {\n",
    "        'headquarters': {\n",
    "            'city': 'San Francisco',\n",
    "            'country': 'USA'\n",
    "        },\n",
    "        'branch_offices': [\n",
    "            {\n",
    "                'city': 'New York',\n",
    "                'country': 'USA'\n",
    "            },\n",
    "            {\n",
    "                'city': 'London',\n",
    "                'country': 'UK'\n",
    "            }\n",
    "        ]\n",
    "    }\n",
    "}"
   ]
  },
  {
   "cell_type": "code",
   "execution_count": 6,
   "metadata": {},
   "outputs": [
    {
     "data": {
      "text/plain": [
       "dict_keys(['company', 'employees', 'departments', 'locations'])"
      ]
     },
     "execution_count": 6,
     "metadata": {},
     "output_type": "execute_result"
    }
   ],
   "source": [
    "complex_dict.keys()"
   ]
  },
  {
   "cell_type": "code",
   "execution_count": 10,
   "metadata": {},
   "outputs": [
    {
     "data": {
      "text/plain": [
       "{'headquarters': {'city': 'San Francisco', 'country': 'USA'},\n",
       " 'branch_offices': [{'city': 'New York', 'country': 'USA'},\n",
       "  {'city': 'London', 'country': 'UK'}]}"
      ]
     },
     "execution_count": 10,
     "metadata": {},
     "output_type": "execute_result"
    }
   ],
   "source": [
    "complex_dict[\"locations\"]"
   ]
  },
  {
   "cell_type": "code",
   "execution_count": 19,
   "metadata": {},
   "outputs": [
    {
     "data": {
      "text/plain": [
       "'UK'"
      ]
     },
     "execution_count": 19,
     "metadata": {},
     "output_type": "execute_result"
    }
   ],
   "source": [
    "complex_dict[\"locations\"][\"branch_offices\"][1][\"country\"]"
   ]
  },
  {
   "cell_type": "code",
   "execution_count": null,
   "metadata": {},
   "outputs": [],
   "source": [
    "dic1 = {1: 10, 2: 20}\n",
    "dic2 = {3: 30, 4: 40}\n",
    "dic3 = {5: 50, 6: 60}\n",
    "\n",
    "result = {}\n",
    "\n",
    "for d in [dic1, dic2, dic3]:\n",
    "    result.update(d)\n",
    "\n",
    "print(\"Concatenated dictionary:\", result)"
   ]
  },
  {
   "cell_type": "code",
   "execution_count": 20,
   "metadata": {},
   "outputs": [
    {
     "name": "stdout",
     "output_type": "stream",
     "text": [
      "yes\n"
     ]
    }
   ],
   "source": [
    "dict={1:20,2:20,3:30}\n",
    "inte=int(input(\"Enter the input\"))\n",
    "if inte in dict:\n",
    "    print(\"yes\")\n",
    "else:\n",
    "    print(\"No\")\n"
   ]
  },
  {
   "cell_type": "code",
   "execution_count": 28,
   "metadata": {},
   "outputs": [
    {
     "name": "stdout",
     "output_type": "stream",
     "text": [
      "256\n"
     ]
    }
   ],
   "source": [
    "my_dict={'data1':100,'data2':54,'data3':256}\n",
    "for i in my_dict.values():\n",
    "    j=i+0\n",
    "\n",
    "    \n",
    "print(j)"
   ]
  },
  {
   "cell_type": "code",
   "execution_count": 6,
   "metadata": {},
   "outputs": [
    {
     "name": "stdout",
     "output_type": "stream",
     "text": [
      "Print addition value of 20 and 10 is 30\n",
      "Print subraction value of 20 and 10 is 10\n",
      "Print multipy value of 20 and 10 is 200\n",
      "Print division value of 20 and 10 is 2.0\n"
     ]
    }
   ],
   "source": [
    "a = int(input(\"Enter the number a: \"))\n",
    "b = int(input(\"Enter the number b: \"))\n",
    "c = a+b\n",
    "print(f\"Print addition value of {,} and {,} is {.}\",a,b,c)\n",
    "c = a-b\n",
    "print(f\"Print subraction value of {.} and {.} is {.}\",a,b,c)\n",
    "c = a*b\n",
    "print(f\"Print multipy value of {a} and {b} is {c}\")\n",
    "c = a/b\n",
    "print(f\"Print division value of {a} and {b} is {c}\")\n",
    "\n"
   ]
  },
  {
   "cell_type": "code",
   "execution_count": 8,
   "metadata": {},
   "outputs": [
    {
     "name": "stdout",
     "output_type": "stream",
     "text": [
      "30\n",
      "10\n",
      "200\n",
      "2.0\n"
     ]
    }
   ],
   "source": [
    "a = int(input(\"enter the number a\"))\n",
    "b = int(input(\"enter the number b\"))\n",
    "\n",
    "def addition(a,b):\n",
    "    print(f\"{a+b}\")\n",
    "\n",
    "def sub(a,b):\n",
    "    print(f\"{a-b}\")\n",
    "\n",
    "def mul(a,b):\n",
    "    print(f\"{a*b}\")\n",
    "\n",
    "def division(a,b):\n",
    "    print(f\"{a/b} \")\n",
    "\n",
    "addition(a,b)\n",
    "sub(a,b)\n",
    "mul(a,b)\n",
    "division(a,b)\n",
    "    "
   ]
  },
  {
   "cell_type": "code",
   "execution_count": 2,
   "metadata": {},
   "outputs": [],
   "source": [
    "import pyspark"
   ]
  },
  {
   "cell_type": "code",
   "execution_count": null,
   "metadata": {},
   "outputs": [],
   "source": []
  },
  {
   "cell_type": "code",
   "execution_count": null,
   "metadata": {},
   "outputs": [],
   "source": []
  },
  {
   "cell_type": "code",
   "execution_count": null,
   "metadata": {},
   "outputs": [],
   "source": []
  },
  {
   "cell_type": "code",
   "execution_count": null,
   "metadata": {},
   "outputs": [],
   "source": []
  },
  {
   "cell_type": "code",
   "execution_count": null,
   "metadata": {},
   "outputs": [],
   "source": []
  },
  {
   "cell_type": "code",
   "execution_count": null,
   "metadata": {},
   "outputs": [],
   "source": []
  },
  {
   "cell_type": "code",
   "execution_count": null,
   "metadata": {},
   "outputs": [],
   "source": []
  },
  {
   "cell_type": "code",
   "execution_count": null,
   "metadata": {},
   "outputs": [],
   "source": []
  },
  {
   "cell_type": "code",
   "execution_count": null,
   "metadata": {},
   "outputs": [],
   "source": []
  },
  {
   "cell_type": "code",
   "execution_count": null,
   "metadata": {},
   "outputs": [],
   "source": []
  },
  {
   "cell_type": "code",
   "execution_count": null,
   "metadata": {},
   "outputs": [],
   "source": []
  },
  {
   "cell_type": "code",
   "execution_count": null,
   "metadata": {},
   "outputs": [],
   "source": []
  },
  {
   "cell_type": "code",
   "execution_count": null,
   "metadata": {},
   "outputs": [],
   "source": []
  }
 ],
 "metadata": {
  "kernelspec": {
   "display_name": "venv",
   "language": "python",
   "name": "python3"
  },
  "language_info": {
   "codemirror_mode": {
    "name": "ipython",
    "version": 3
   },
   "file_extension": ".py",
   "mimetype": "text/x-python",
   "name": "python",
   "nbconvert_exporter": "python",
   "pygments_lexer": "ipython3",
   "version": "3.10.12"
  }
 },
 "nbformat": 4,
 "nbformat_minor": 2
}
