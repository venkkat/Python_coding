{
 "cells": [
  {
   "cell_type": "code",
   "execution_count": 14,
   "metadata": {},
   "outputs": [],
   "source": [
    "class Phone:\n",
    "    def __init__(self,name,type,battery,processor,price):\n",
    "        self.name=name\n",
    "        self.type=type\n",
    "        self.battery=battery\n",
    "        self.processor=processor\n",
    "        self.price=price\n",
    "        \n",
    "    \n",
    "    def factory(self):\n",
    "        print(f\"Available in factory {self.name} and {self.price}\")\n",
    "\n",
    "    def invoice(self):\n",
    "        print(f\"{self.name} is {self.type} with battery capacity of {self.battery} and price is {self.price}\")\n",
    "\n",
    "    def storeavailability(self):\n",
    "        print(f\"{self.name} is {self.type} with processor {self.processor} is {self.factory}\")\n",
    "\n",
    "customer1=Phone(\"Apple\",\"ios\",5500,\"AppleBionic\",80000)\n",
    "customer2=Phone(\"Oneplus\",\"Android\",6000,\"OxygenOS\",55000)"
   ]
  },
  {
   "cell_type": "code",
   "execution_count": 17,
   "metadata": {},
   "outputs": [
    {
     "data": {
      "text/plain": [
       "<bound method Phone.invoice of <__main__.Phone object at 0x7f52c9e0c580>>"
      ]
     },
     "execution_count": 17,
     "metadata": {},
     "output_type": "execute_result"
    }
   ],
   "source": [
    "customer1.invoice"
   ]
  },
  {
   "cell_type": "code",
   "execution_count": 47,
   "metadata": {},
   "outputs": [
    {
     "ename": "TypeError",
     "evalue": "twelthstudent.__init__() missing 2 required positional arguments: 'tot' and 'per'",
     "output_type": "error",
     "traceback": [
      "\u001b[0;31m---------------------------------------------------------------------------\u001b[0m",
      "\u001b[0;31mTypeError\u001b[0m                                 Traceback (most recent call last)",
      "Cell \u001b[0;32mIn[47], line 36\u001b[0m\n\u001b[1;32m     33\u001b[0m     \u001b[38;5;28;01mdef\u001b[39;00m \u001b[38;5;21mtotal\u001b[39m(\u001b[38;5;28mself\u001b[39m):\n\u001b[1;32m     34\u001b[0m         \u001b[38;5;28;01mreturn\u001b[39;00m \u001b[38;5;28mself\u001b[39m\u001b[38;5;241m.\u001b[39mtot\n\u001b[0;32m---> 36\u001b[0m Student1\u001b[38;5;241m=\u001b[39m\u001b[43mtwelthstudent\u001b[49m\u001b[43m(\u001b[49m\u001b[38;5;124;43m\"\u001b[39;49m\u001b[38;5;124;43mRamu\u001b[39;49m\u001b[38;5;124;43m\"\u001b[39;49m\u001b[43m,\u001b[49m\u001b[38;5;241;43m1003\u001b[39;49m\u001b[43m,\u001b[49m\u001b[38;5;241;43m80\u001b[39;49m\u001b[43m,\u001b[49m\u001b[38;5;241;43m70\u001b[39;49m\u001b[43m,\u001b[49m\u001b[38;5;241;43m60\u001b[39;49m\u001b[43m,\u001b[49m\u001b[38;5;241;43m50\u001b[39;49m\u001b[43m,\u001b[49m\u001b[38;5;241;43m40\u001b[39;49m\u001b[43m)\u001b[49m\n\u001b[1;32m     37\u001b[0m Student2\u001b[38;5;241m=\u001b[39mtwelthstudent(\u001b[38;5;124m\"\u001b[39m\u001b[38;5;124mRaju\u001b[39m\u001b[38;5;124m\"\u001b[39m,\u001b[38;5;241m1004\u001b[39m,\u001b[38;5;241m34\u001b[39m,\u001b[38;5;241m50\u001b[39m,\u001b[38;5;241m60\u001b[39m,\u001b[38;5;241m50\u001b[39m,\u001b[38;5;241m70\u001b[39m)\n\u001b[1;32m     39\u001b[0m \u001b[38;5;28mprint\u001b[39m(Student1\u001b[38;5;241m.\u001b[39mgrade())\n",
      "\u001b[0;31mTypeError\u001b[0m: twelthstudent.__init__() missing 2 required positional arguments: 'tot' and 'per'"
     ]
    }
   ],
   "source": [
    "class twelthstudent:\n",
    "    def __init__(self,name,rollno,Tamil,English,Maths,Science,Social,tot,per):\n",
    "            self.name=name\n",
    "            self.rollno=rollno\n",
    "            self.Tamil=Tamil\n",
    "            self.English=English\n",
    "            self.Maths=Maths\n",
    "            self.Science=Science\n",
    "            self.Social=Social\n",
    "            self.tot=Tamil+English+Maths+Science+Social\n",
    "            self.per=(self.tot/5)*100\n",
    "\n",
    "    def percentage(self):\n",
    "        return self.per\n",
    "\n",
    "    def grade(self):\n",
    "        if self.Tamil>=40 and self.English>=40 and self.Science>=40 and self.Social>=40 and self.Maths>=40:\n",
    "            if self.per>=90 and self.per<=100:\n",
    "                print(f\"\\n Secured A grade\")\n",
    "            elif self.per>=80 and self.per<=89:\n",
    "                print(f\" \\n Secured B grade\")\n",
    "            elif self.per>=70 and self.per<=79:\n",
    "                print(f\" \\n Secured C grade\")\n",
    "            elif self.per>=60 and self.per<=69:\n",
    "                print(f\" \\n Secured D grade\")\n",
    "            else:\n",
    "                print(f\" \\n Secured E grade\")\n",
    "        else:\n",
    "            print(f\"Candidate failed needs reappear\")\n",
    "            \n",
    "        return self.grade\n",
    "\n",
    "    def total(self):\n",
    "        return self.tot\n",
    "\n",
    "Student1=twelthstudent(\"Ramu\",1003,80,70,60,50,40)\n",
    "Student2=twelthstudent(\"Raju\",1004,34,50,60,50,70)\n",
    "\n",
    "print(Student1.grade())\n",
    "print(Student1.percentage())\n",
    "print(Student1.total())"
   ]
  },
  {
   "cell_type": "code",
   "execution_count": null,
   "metadata": {},
   "outputs": [],
   "source": []
  },
  {
   "cell_type": "code",
   "execution_count": 3,
   "metadata": {},
   "outputs": [
    {
     "ename": "NameError",
     "evalue": "name 'Student1' is not defined",
     "output_type": "error",
     "traceback": [
      "\u001b[0;31m---------------------------------------------------------------------------\u001b[0m",
      "\u001b[0;31mNameError\u001b[0m                                 Traceback (most recent call last)",
      "Cell \u001b[0;32mIn[3], line 1\u001b[0m\n\u001b[0;32m----> 1\u001b[0m \u001b[43mStudent1\u001b[49m\u001b[38;5;241m.\u001b[39mper()\n",
      "\u001b[0;31mNameError\u001b[0m: name 'Student1' is not defined"
     ]
    }
   ],
   "source": [
    "Student1.per()"
   ]
  },
  {
   "cell_type": "code",
   "execution_count": 65,
   "metadata": {},
   "outputs": [
    {
     "name": "stdout",
     "output_type": "stream",
     "text": [
      "Candidate failed needs reappear\n"
     ]
    }
   ],
   "source": [
    "Student2.grade()"
   ]
  },
  {
   "cell_type": "code",
   "execution_count": 58,
   "metadata": {},
   "outputs": [
    {
     "name": "stdout",
     "output_type": "stream",
     "text": [
      "Candidate failed needs reappear\n"
     ]
    }
   ],
   "source": [
    "class twelthstudent:\n",
    "    def __init__(self,name,rollno,Tamil,English,Maths,Science,Social):\n",
    "        self.name = name\n",
    "        self.rollno = rollno\n",
    "        self.Tamil = Tamil\n",
    "        self.English = English\n",
    "        self.Maths = Maths\n",
    "        self.Science = Science\n",
    "        self.Social = Social\n",
    "        self.tot = Tamil + English + Maths + Science + Social\n",
    "        self.per = (self.tot/500)*100\n",
    "\n",
    "    def total(self):\n",
    "        return self.tot\n",
    "\n",
    "    def percentage(self):\n",
    "        return self.per\n",
    "\n",
    "    def grade(self):\n",
    "        if self.Tamil>=40 and self.English>=40 and self.Science>=40 and self.Social>=40 and self.Maths>=40:\n",
    "            if self.per>=90 and self.per<=100:\n",
    "                print(\"Secured A grade\")\n",
    "            elif self.per>=80 and self.per<=89:\n",
    "                print(\"Secured B grade\")\n",
    "            elif self.per>=70 and self.per<=79:\n",
    "                print(\"Secured C grade\")\n",
    "            elif self.per>=60 and self.per<=69:\n",
    "                print(\"Secured D grade\")\n",
    "            else:\n",
    "                print(\"Secured E grade\")\n",
    "        else:\n",
    "            print(\"Candidate failed needs reappear\")\n",
    "\n",
    "Student1 = twelthstudent(\"Ramu\", 1003, 80, 70, 60, 50, 40)\n",
    "Student2 = twelthstudent(\"Raju\", 1004, 34, 50, 60, 50, 70)\n",
    "\n",
    "Student2.grade()"
   ]
  },
  {
   "cell_type": "code",
   "execution_count": null,
   "metadata": {},
   "outputs": [],
   "source": []
  },
  {
   "cell_type": "code",
   "execution_count": null,
   "metadata": {},
   "outputs": [],
   "source": []
  },
  {
   "cell_type": "code",
   "execution_count": null,
   "metadata": {},
   "outputs": [],
   "source": []
  },
  {
   "cell_type": "code",
   "execution_count": null,
   "metadata": {},
   "outputs": [],
   "source": []
  },
  {
   "cell_type": "code",
   "execution_count": null,
   "metadata": {},
   "outputs": [],
   "source": []
  },
  {
   "cell_type": "code",
   "execution_count": null,
   "metadata": {},
   "outputs": [],
   "source": []
  },
  {
   "cell_type": "code",
   "execution_count": null,
   "metadata": {},
   "outputs": [],
   "source": []
  },
  {
   "cell_type": "code",
   "execution_count": null,
   "metadata": {},
   "outputs": [],
   "source": []
  }
 ],
 "metadata": {
  "kernelspec": {
   "display_name": "Python 3",
   "language": "python",
   "name": "python3"
  },
  "language_info": {
   "codemirror_mode": {
    "name": "ipython",
    "version": 3
   },
   "file_extension": ".py",
   "mimetype": "text/x-python",
   "name": "python",
   "nbconvert_exporter": "python",
   "pygments_lexer": "ipython3",
   "version": "3.10.12"
  }
 },
 "nbformat": 4,
 "nbformat_minor": 2
}
