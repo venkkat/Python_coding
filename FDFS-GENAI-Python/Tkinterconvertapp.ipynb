{
 "cells": [
  {
   "cell_type": "code",
   "execution_count": 3,
   "metadata": {},
   "outputs": [],
   "source": [
    "from tkinter import *\n",
    "\n",
    "window = Tk()\n",
    "window.title(\"Unit Converter\")\n",
    "\n",
    "def kg_to_g():\n",
    "    kg = float(kg_entry.get())\n",
    "    grams = kg * 1000\n",
    "    result_label_kg.config(text=f\"{kg}py kg = {grams} g\")\n",
    "\n",
    "def km_to_m():\n",
    "    km = float(km_entry.get())\n",
    "    meters = km * 1000\n",
    "    result_label_km.config(text=f\"{km} km = {meters} m\")\n",
    "\n",
    "def ButtonClear():\n",
    "    km_entry.delete(0,END)\n",
    "    kg_entry.delete(0,END)\n",
    "\n",
    "\n",
    "frame_kg = Frame(window, padx=10, pady=10)\n",
    "frame_kg.grid(row=0, column=0, padx=10, pady=10)\n",
    "\n",
    "kg_label = Label(frame_kg, text=\"Kilograms:\")\n",
    "kg_label.grid(row=0, column=0, padx=5, pady=5)\n",
    "\n",
    "kg_entry = Entry(frame_kg, width=35, borderwidth=5)\n",
    "kg_entry.grid(row=0, column=1, padx=5, pady=5)\n",
    "\n",
    "convert_button_kg = Button(frame_kg, text=\"Convert to Grams\", command=kg_to_g)\n",
    "convert_button_kg.grid(row=1, column=1, columnspan=2, pady=5)\n",
    "\n",
    "result_label_kg = Label(frame_kg, text=\"\")\n",
    "result_label_kg.grid(row=2, column=0, columnspan=2, pady=5)\n",
    "\n",
    "frame_km = Frame(window, padx=10, pady=10)\n",
    "frame_km.grid(row=1, column=0, padx=10, pady=10)\n",
    "\n",
    "km_label = Label(frame_km, text=\"Kilometers:\")\n",
    "km_label.grid(row=0, column=0, padx=5, pady=5)\n",
    "\n",
    "km_entry = Entry(frame_km, width=35, borderwidth=5)\n",
    "km_entry.grid(row=0, column=1, padx=5, pady=5)\n",
    "\n",
    "convert_button_km = Button(frame_km, text=\"Convert to Meters\", command=km_to_m)\n",
    "convert_button_km.grid(row=1, column=1, columnspan=2, pady=5)\n",
    "\n",
    "buttonclear = Button(text=\"Clear\",padx=77,pady=20,command=ButtonClear)\n",
    "buttonclear.grid(row=3,column=0)\n",
    "\n",
    "result_label_km = Label(frame_km, text=\"\")\n",
    "result_label_km.grid(row=4, column=0, columnspan=2, pady=5)\n",
    "\n",
    "window.mainloop()\n"
   ]
  },
  {
   "cell_type": "code",
   "execution_count": null,
   "metadata": {},
   "outputs": [],
   "source": []
  },
  {
   "cell_type": "code",
   "execution_count": null,
   "metadata": {},
   "outputs": [],
   "source": []
  },
  {
   "cell_type": "code",
   "execution_count": null,
   "metadata": {},
   "outputs": [],
   "source": []
  },
  {
   "cell_type": "code",
   "execution_count": null,
   "metadata": {},
   "outputs": [],
   "source": []
  },
  {
   "cell_type": "code",
   "execution_count": null,
   "metadata": {},
   "outputs": [],
   "source": []
  },
  {
   "cell_type": "code",
   "execution_count": null,
   "metadata": {},
   "outputs": [],
   "source": []
  },
  {
   "cell_type": "code",
   "execution_count": null,
   "metadata": {},
   "outputs": [],
   "source": []
  }
 ],
 "metadata": {
  "kernelspec": {
   "display_name": "Python 3",
   "language": "python",
   "name": "python3"
  },
  "language_info": {
   "codemirror_mode": {
    "name": "ipython",
    "version": 3
   },
   "file_extension": ".py",
   "mimetype": "text/x-python",
   "name": "python",
   "nbconvert_exporter": "python",
   "pygments_lexer": "ipython3",
   "version": "3.10.12"
  }
 },
 "nbformat": 4,
 "nbformat_minor": 2
}
