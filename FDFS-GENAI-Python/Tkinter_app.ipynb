{
 "cells": [
  {
   "cell_type": "code",
   "execution_count": 17,
   "metadata": {},
   "outputs": [
    {
     "ename": "TypeError",
     "evalue": "'module' object is not callable",
     "output_type": "error",
     "traceback": [
      "\u001b[0;31m---------------------------------------------------------------------------\u001b[0m",
      "\u001b[0;31mTypeError\u001b[0m                                 Traceback (most recent call last)",
      "Cell \u001b[0;32mIn[17], line 4\u001b[0m\n\u001b[1;32m      1\u001b[0m \u001b[38;5;28;01mimport\u001b[39;00m \u001b[38;5;21;01mtkinter\u001b[39;00m \u001b[38;5;28;01mas\u001b[39;00m \u001b[38;5;21;01mtk\u001b[39;00m\n\u001b[1;32m      2\u001b[0m \u001b[38;5;28;01mfrom\u001b[39;00m \u001b[38;5;21;01mtkinter\u001b[39;00m \u001b[38;5;28;01mimport\u001b[39;00m ttk\n\u001b[0;32m----> 4\u001b[0m window \u001b[38;5;241m=\u001b[39m \u001b[43mttk\u001b[49m\u001b[43m(\u001b[49m\u001b[43m)\u001b[49m\n\u001b[1;32m      5\u001b[0m window\u001b[38;5;241m.\u001b[39mtitle(\u001b[38;5;124m\"\u001b[39m\u001b[38;5;124mUnit Converter\u001b[39m\u001b[38;5;124m\"\u001b[39m)\n\u001b[1;32m      6\u001b[0m \u001b[38;5;66;03m#window.iconbitmap(\"C:/Users/kisho/Downloads\")\u001b[39;00m\n",
      "\u001b[0;31mTypeError\u001b[0m: 'module' object is not callable"
     ]
    }
   ],
   "source": [
    "import tkinter as tk\n",
    "from tkinter import ttk\n",
    "\n",
    "window = ttk()\n",
    "window.title(\"Unit Converter\")\n",
    "#window.iconbitmap(\"C:/Users/kisho/Downloads\")\n",
    "\n",
    "def kg_to_g():\n",
    "    kg = float(kg_entry.get())\n",
    "    grams = kg * 1000\n",
    "    result_label_kg.config(text=f\"{kg} kg = {grams} g\")\n",
    "\n",
    "def km_to_m():\n",
    "    km = float(km_entry.get())\n",
    "    meters = km * 1000\n",
    "    result_label_km.config(text=f\"{km} km = {meters} m\")\n",
    "\n",
    "\n",
    "frame_kg = ttk.Frame(window, padding=\"10\").grid(row=0, column=0, padx=10, pady=10)\n",
    "\n",
    "kg_label = ttk.Label(frame_kg, text=\"Kilograms:\").grid(row=0, column=0, padx=5, pady=5)\n",
    "\n",
    "kg_entry = e.grid(row=0, column=1, padx=5, pady=5)\n",
    "\n",
    "convert_button_kg = ttk.Button(frame_kg, text=\"Convert to Grams\", command=kg_to_g).grid(row=1, column=0, columnspan=2, pady=5)\n",
    "\n",
    "result_label_kg = ttk.Label(frame_kg, text=\"\").grid(row=2, column=0, columnspan=2, pady=5)\n",
    "\n",
    "frame_km = ttk.Frame(window, padding=\"10\").grid(row=1, column=0, padx=10, pady=10)\n",
    "\n",
    "km_label = ttk.Label(frame_km, text=\"Kilometers:\").grid(row=0, column=0, padx=5, pady=5)\n",
    "\n",
    "km_entry = e.grid(row=0, column=1, padx=5, pady=5)\n",
    "\n",
    "convert_button_km = ttk.Button(frame_km, text=\"Convert to Meters\", command=km_to_m).grid(row=1, column=0, columnspan=2, pady=5)\n",
    "\n",
    "result_label_km = ttk.Label(frame_km, text=\"\").grid(row=2, column=0, columnspan=2, pady=5)\n",
    "\n",
    "window.mainloop()\n"
   ]
  },
  {
   "cell_type": "code",
   "execution_count": 2,
   "metadata": {},
   "outputs": [
    {
     "ename": "TclError",
     "evalue": "bitmap \"home/kishor/projects/learning/FDFS-GENAI-Python/icon.ico\" not defined",
     "output_type": "error",
     "traceback": [
      "\u001b[0;31m---------------------------------------------------------------------------\u001b[0m",
      "\u001b[0;31mTclError\u001b[0m                                  Traceback (most recent call last)",
      "Cell \u001b[0;32mIn[2], line 5\u001b[0m\n\u001b[1;32m      3\u001b[0m window \u001b[38;5;241m=\u001b[39m Tk()\n\u001b[1;32m      4\u001b[0m window\u001b[38;5;241m.\u001b[39mtitle(\u001b[38;5;124m\"\u001b[39m\u001b[38;5;124mSimple Calculator\u001b[39m\u001b[38;5;124m\"\u001b[39m)\n\u001b[0;32m----> 5\u001b[0m \u001b[43mwindow\u001b[49m\u001b[38;5;241;43m.\u001b[39;49m\u001b[43miconbitmap\u001b[49m\u001b[43m(\u001b[49m\u001b[38;5;124;43m'\u001b[39;49m\u001b[38;5;124;43mhome/kishor/projects/learning/FDFS-GENAI-Python/icon.ico\u001b[39;49m\u001b[38;5;124;43m'\u001b[39;49m\u001b[43m)\u001b[49m\n\u001b[1;32m      7\u001b[0m e \u001b[38;5;241m=\u001b[39m Entry(width\u001b[38;5;241m=\u001b[39m\u001b[38;5;241m35\u001b[39m,borderwidth\u001b[38;5;241m=\u001b[39m\u001b[38;5;241m5\u001b[39m)\n\u001b[1;32m      8\u001b[0m e\u001b[38;5;241m.\u001b[39mgrid(row\u001b[38;5;241m=\u001b[39m\u001b[38;5;241m0\u001b[39m,column\u001b[38;5;241m=\u001b[39m\u001b[38;5;241m0\u001b[39m,columnspan\u001b[38;5;241m=\u001b[39m\u001b[38;5;241m3\u001b[39m)\n",
      "File \u001b[0;32m/usr/lib/python3.10/tkinter/__init__.py:2109\u001b[0m, in \u001b[0;36mWm.wm_iconbitmap\u001b[0;34m(self, bitmap, default)\u001b[0m\n\u001b[1;32m   2107\u001b[0m     \u001b[38;5;28;01mreturn\u001b[39;00m \u001b[38;5;28mself\u001b[39m\u001b[38;5;241m.\u001b[39mtk\u001b[38;5;241m.\u001b[39mcall(\u001b[38;5;124m'\u001b[39m\u001b[38;5;124mwm\u001b[39m\u001b[38;5;124m'\u001b[39m, \u001b[38;5;124m'\u001b[39m\u001b[38;5;124miconbitmap\u001b[39m\u001b[38;5;124m'\u001b[39m, \u001b[38;5;28mself\u001b[39m\u001b[38;5;241m.\u001b[39m_w, \u001b[38;5;124m'\u001b[39m\u001b[38;5;124m-default\u001b[39m\u001b[38;5;124m'\u001b[39m, default)\n\u001b[1;32m   2108\u001b[0m \u001b[38;5;28;01melse\u001b[39;00m:\n\u001b[0;32m-> 2109\u001b[0m     \u001b[38;5;28;01mreturn\u001b[39;00m \u001b[38;5;28;43mself\u001b[39;49m\u001b[38;5;241;43m.\u001b[39;49m\u001b[43mtk\u001b[49m\u001b[38;5;241;43m.\u001b[39;49m\u001b[43mcall\u001b[49m\u001b[43m(\u001b[49m\u001b[38;5;124;43m'\u001b[39;49m\u001b[38;5;124;43mwm\u001b[39;49m\u001b[38;5;124;43m'\u001b[39;49m\u001b[43m,\u001b[49m\u001b[43m \u001b[49m\u001b[38;5;124;43m'\u001b[39;49m\u001b[38;5;124;43miconbitmap\u001b[39;49m\u001b[38;5;124;43m'\u001b[39;49m\u001b[43m,\u001b[49m\u001b[43m \u001b[49m\u001b[38;5;28;43mself\u001b[39;49m\u001b[38;5;241;43m.\u001b[39;49m\u001b[43m_w\u001b[49m\u001b[43m,\u001b[49m\u001b[43m \u001b[49m\u001b[43mbitmap\u001b[49m\u001b[43m)\u001b[49m\n",
      "\u001b[0;31mTclError\u001b[0m: bitmap \"home/kishor/projects/learning/FDFS-GENAI-Python/icon.ico\" not defined"
     ]
    }
   ],
   "source": [
    "from tkinter import *\n",
    "\n",
    "window = Tk()\n",
    "window.title(\"Simple Calculator\")\n",
    "window.iconbitmap(\"home/kishor/projects/learning/FDFS-GENAI-Python/icon.ico\")\n",
    "\n",
    "e = Entry(width=35,borderwidth=5)\n",
    "e.grid(row=0,column=0,columnspan=3)\n",
    "\n",
    "def ButtonClick(number):\n",
    "    current = e.get()\n",
    "    e.delete(0,END)\n",
    "    e.insert(0,str(current)+str(number))\n",
    "\n",
    "def ButtonClear():\n",
    "    e.delete(0,END)\n",
    "\n",
    "\n",
    "def ButtonAdd():\n",
    "    global fnum,math\n",
    "    first_number = e.get()\n",
    "    math = 1\n",
    "    e.delete(0,END)\n",
    "    fnum = int(first_number)\n",
    "\n",
    "def ButtonSub():\n",
    "    global fnum,math\n",
    "    math = 2\n",
    "    first_number = e.get()\n",
    "    e.delete(0,END)\n",
    "    fnum = int(first_number)\n",
    "\n",
    "def ButtonMul():\n",
    "    global fnum,math\n",
    "    math =3\n",
    "    first_number = e.get()\n",
    "    e.delete(0,END)\n",
    "    fnum = int(first_number)\n",
    "\n",
    "def ButtonDiv():\n",
    "    global fnum,math\n",
    "    math = 4\n",
    "    first_number = e.get()\n",
    "    e.delete(0,END)\n",
    "    fnum = int(first_number)\n",
    "\n",
    "def ButtonEqual():\n",
    "    second_number = e.get()\n",
    "    e.delete(0,END)\n",
    "    snum = int(second_number)\n",
    "\n",
    "    if math == 1:\n",
    "        e.insert(0,fnum+snum)\n",
    "\n",
    "    elif math == 2:\n",
    "        e.insert(0,fnum-snum)\n",
    "\n",
    "    elif math == 3:\n",
    "        e.insert(0,fnum*snum)\n",
    "\n",
    "    else:\n",
    "        e.insert(0,fnum/snum)\n",
    "\n",
    "\n",
    "button1 = Button(text=1,padx=40,pady=20,command=lambda: ButtonClick(1)).grid(row=1,column=0)\n",
    "button2 = Button(text=2,padx=40,pady=20,command=lambda: ButtonClick(2)).grid(row=1,column=1)\n",
    "button3 = Button(text=3,padx=40,pady=20,command=lambda: ButtonClick(3)).grid(row=1,column=2)\n",
    "\n",
    "button4 = Button(text=4,padx=40,pady=20,command=lambda: ButtonClick(4)).grid(row=2,column=0)\n",
    "button5 = Button(text=5,padx=40,pady=20,command=lambda: ButtonClick(5)).grid(row=2,column=1)\n",
    "button6 = Button(text=6,padx=40,pady=20,command=lambda: ButtonClick(6)).grid(row=2,column=2)\n",
    "\n",
    "button7 = Button(text=7,padx=40,pady=20,command=lambda: ButtonClick(7)).grid(row=3,column=0)\n",
    "button8 = Button(text=8,padx=40,pady=20,command=lambda: ButtonClick(8)).grid(row=3,column=1)\n",
    "button9 = Button(text=9,padx=40,pady=20,command=lambda: ButtonClick(9)).grid(row=3,column=2)\n",
    "\n",
    "button0 = Button(text=0,padx=40,pady=20,command=lambda: ButtonClick(0)).grid(row=4,column=0)\n",
    "buttonclear = Button(text=\"Clear\",padx=77,pady=20,command=ButtonClear).grid(row=4,column=1,columnspan=2)\n",
    "\n",
    "buttonadd = Button(text=\"+\",padx=38,pady=20,command=ButtonAdd).grid(row=5,column=0)\n",
    "buttonequal = Button(text=\"=\",padx=87,pady=20,command=ButtonEqual).grid(row=5,column=1,columnspan=2)\n",
    "\n",
    "\n",
    "buttonsub = Button(text=\"-\",padx=40,pady=20,command=ButtonSub).grid(row=6,column=0)\n",
    "buttonmul = Button(text=\"*\",padx=40,pady=20,command=ButtonMul).grid(row=6,column=1)\n",
    "buttondiv = Button(text=\"/\",padx=40,pady=20,command=ButtonDiv).grid(row=6,column=2)\n",
    "\n",
    "window.mainloop()"
   ]
  },
  {
   "cell_type": "code",
   "execution_count": null,
   "metadata": {},
   "outputs": [],
   "source": []
  },
  {
   "cell_type": "code",
   "execution_count": null,
   "metadata": {},
   "outputs": [],
   "source": []
  },
  {
   "cell_type": "code",
   "execution_count": null,
   "metadata": {},
   "outputs": [],
   "source": []
  },
  {
   "cell_type": "code",
   "execution_count": null,
   "metadata": {},
   "outputs": [],
   "source": []
  },
  {
   "cell_type": "code",
   "execution_count": null,
   "metadata": {},
   "outputs": [],
   "source": []
  },
  {
   "cell_type": "code",
   "execution_count": null,
   "metadata": {},
   "outputs": [],
   "source": []
  },
  {
   "cell_type": "code",
   "execution_count": null,
   "metadata": {},
   "outputs": [],
   "source": []
  },
  {
   "cell_type": "code",
   "execution_count": null,
   "metadata": {},
   "outputs": [],
   "source": []
  }
 ],
 "metadata": {
  "kernelspec": {
   "display_name": "Python 3",
   "language": "python",
   "name": "python3"
  },
  "language_info": {
   "codemirror_mode": {
    "name": "ipython",
    "version": 3
   },
   "file_extension": ".py",
   "mimetype": "text/x-python",
   "name": "python",
   "nbconvert_exporter": "python",
   "pygments_lexer": "ipython3",
   "version": "3.10.12"
  }
 },
 "nbformat": 4,
 "nbformat_minor": 2
}
