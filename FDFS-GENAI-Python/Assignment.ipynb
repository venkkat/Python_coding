{
 "cells": [
  {
   "cell_type": "markdown",
   "metadata": {},
   "source": []
  },
  {
   "cell_type": "code",
   "execution_count": 1,
   "metadata": {},
   "outputs": [
    {
     "name": "stdout",
     "output_type": "stream",
     "text": [
      "30\n"
     ]
    }
   ],
   "source": [
    "#Accept two numbers\n",
    "a=int(input(\"Enter the number1\"))\n",
    "b=int(input(\"Enter the number2\"))\n",
    "print(a+b)"
   ]
  },
  {
   "cell_type": "code",
   "execution_count": 2,
   "metadata": {},
   "outputs": [
    {
     "name": "stdout",
     "output_type": "stream",
     "text": [
      "Area_of_circle 50.27, circumference 25.13\n"
     ]
    }
   ],
   "source": [
    "#Accept circle radius and calculate respective values\n",
    "import math\n",
    "radius=int(input(\"Enter the radius of circle\"))\n",
    "\n",
    "area_of_circle=math.pi*radius**2\n",
    "\n",
    "circumference=2*math.pi*radius\n",
    "\n",
    "print(f\"Area_of_circle {area_of_circle:.2f}, circumference {circumference:.2f}\")\n"
   ]
  },
  {
   "cell_type": "code",
   "execution_count": 4,
   "metadata": {},
   "outputs": [
    {
     "name": "stdout",
     "output_type": "stream",
     "text": [
      "Find my the roll_number 1004 grade B and percent 80.00 %\n"
     ]
    }
   ],
   "source": [
    "roll_number=int(input(\"Enter the roll number\"))\n",
    "grade=input(\"Enter the grade\")\n",
    "percentage=float(input(\"Enter the percentage\"))\n",
    "\n",
    "print(f\"Find my the roll_number {roll_number} grade {grade} and percent {percentage:.2f} %\")"
   ]
  },
  {
   "cell_type": "code",
   "execution_count": 5,
   "metadata": {},
   "outputs": [
    {
     "name": "stdout",
     "output_type": "stream",
     "text": [
      "Hi my name is Kishor and will turn into 100 2095\n"
     ]
    }
   ],
   "source": [
    "Name=input(\"Enter the name\")\n",
    "Age=int(input(\"Enter the age\"))\n",
    "Current_Year=int(input(\"Enter the current year\"))\n",
    "Year_to_turn=Current_Year-Age+100\n",
    "print(f\"Hi my name is {Name} and will turn into 100 {Year_to_turn}\")"
   ]
  },
  {
   "cell_type": "code",
   "execution_count": 7,
   "metadata": {},
   "outputs": [
    {
     "name": "stdout",
     "output_type": "stream",
     "text": [
      "Sum of two numbers 40\n"
     ]
    }
   ],
   "source": [
    "A,B=input(\"Enter two numbers\").split(\",\")  \n",
    "print(f\"Sum of two numbers {int(A)+int(B)}\")"
   ]
  },
  {
   "cell_type": "code",
   "execution_count": 8,
   "metadata": {},
   "outputs": [
    {
     "name": "stdout",
     "output_type": "stream",
     "text": [
      "[]\n",
      "The list is empty\n"
     ]
    }
   ],
   "source": [
    "E=[1,3,6,8,9,10]\n",
    "T=[2,5,7,11,12,14]\n",
    "\n",
    "items_f=[]\n",
    "items=[]\n",
    "for item in E:\n",
    "    for item2 in T:\n",
    "        if(item==item2):\n",
    "            items.append(item)\n",
    "print(items)\n",
    "\n",
    "for item in items:\n",
    "    if item not in items_f:\n",
    "        items_f.append(item)\n",
    "\n",
    "if not items_f:\n",
    "    print(\"The list is empty\")\n",
    "else:\n",
    "    print(\"The list is not empty\")\n",
    "    print(items_f)\n",
    "    \n",
    "        \t    "
   ]
  },
  {
   "cell_type": "code",
   "execution_count": 9,
   "metadata": {},
   "outputs": [
    {
     "name": "stdout",
     "output_type": "stream",
     "text": [
      "Common items: [4, 5]\n"
     ]
    }
   ],
   "source": [
    "list1 = [1, 2, 3, 4, 5]\n",
    "list2 = [4, 5, 6, 7, 8]\n",
    "\n",
    "common_items = []\n",
    "for item in list1:\n",
    "    if item in list2:\n",
    "        common_items.append(item)\n",
    "\n",
    "print(\"Common items:\", common_items)"
   ]
  },
  {
   "cell_type": "code",
   "execution_count": null,
   "metadata": {},
   "outputs": [],
   "source": []
  },
  {
   "cell_type": "code",
   "execution_count": null,
   "metadata": {},
   "outputs": [],
   "source": []
  },
  {
   "cell_type": "code",
   "execution_count": null,
   "metadata": {},
   "outputs": [],
   "source": []
  },
  {
   "cell_type": "code",
   "execution_count": null,
   "metadata": {},
   "outputs": [],
   "source": []
  },
  {
   "cell_type": "code",
   "execution_count": null,
   "metadata": {},
   "outputs": [],
   "source": []
  },
  {
   "cell_type": "code",
   "execution_count": null,
   "metadata": {},
   "outputs": [],
   "source": []
  },
  {
   "cell_type": "code",
   "execution_count": null,
   "metadata": {},
   "outputs": [],
   "source": []
  },
  {
   "cell_type": "code",
   "execution_count": null,
   "metadata": {},
   "outputs": [],
   "source": []
  },
  {
   "cell_type": "code",
   "execution_count": null,
   "metadata": {},
   "outputs": [],
   "source": []
  },
  {
   "cell_type": "code",
   "execution_count": null,
   "metadata": {},
   "outputs": [],
   "source": []
  },
  {
   "cell_type": "code",
   "execution_count": null,
   "metadata": {},
   "outputs": [],
   "source": []
  },
  {
   "cell_type": "code",
   "execution_count": null,
   "metadata": {},
   "outputs": [],
   "source": []
  },
  {
   "cell_type": "code",
   "execution_count": null,
   "metadata": {},
   "outputs": [],
   "source": []
  },
  {
   "cell_type": "code",
   "execution_count": null,
   "metadata": {},
   "outputs": [],
   "source": []
  },
  {
   "cell_type": "code",
   "execution_count": null,
   "metadata": {},
   "outputs": [],
   "source": []
  }
 ],
 "metadata": {
  "kernelspec": {
   "display_name": "Python 3",
   "language": "python",
   "name": "python3"
  },
  "language_info": {
   "codemirror_mode": {
    "name": "ipython",
    "version": 3
   },
   "file_extension": ".py",
   "mimetype": "text/x-python",
   "name": "python",
   "nbconvert_exporter": "python",
   "pygments_lexer": "ipython3",
   "version": "3.10.12"
  }
 },
 "nbformat": 4,
 "nbformat_minor": 2
}
